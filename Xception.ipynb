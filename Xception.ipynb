{
 "cells": [
  {
   "cell_type": "code",
   "execution_count": 49,
   "id": "7592ca68-3a77-4f40-8a54-64fc624d71cc",
   "metadata": {},
   "outputs": [],
   "source": [
    "import torch\n",
    "import torch.nn as nn\n",
    "import timm\n",
    "from torch.utils.data import DataLoader\n",
    "import os\n",
    "import torchvision\n",
    "from torchvision import datasets\n",
    "from torchvision import transforms as T \n",
    "from torch import nn, optim\n",
    "from torch.nn import functional as F\n",
    "import sys\n",
    "from tqdm import tqdm\n",
    "import time\n",
    "import copy\n",
    "from torch.cuda.amp import GradScaler, autocast\n",
    "import numpy as np\n",
    "from PIL import Image\n",
    "import torch.cuda.amp as amp\n",
    "import functools\n",
    "import types\n",
    "import seaborn as sns\n",
    "import cv2\n",
    "import random\n",
    "import matplotlib.pyplot as plt\n",
    "%matplotlib inline\n",
    "\n",
    "\n",
    "from tensorflow.keras.applications import Xception\n",
    "from tensorflow.keras.models import Model\n",
    "from tensorflow.keras.layers import Dense, GlobalMaxPooling2D, Dropout, Input\n",
    "from tensorflow.keras.optimizers import Adagrad, Adam\n",
    "from tensorflow.keras.metrics import Precision, Recall\n",
    "import tensorflow.keras.backend as K\n",
    "from tensorflow.keras.preprocessing.image import ImageDataGenerator\n",
    "from tensorflow.keras.callbacks import EarlyStopping, ModelCheckpoint\n",
    "import optuna\n",
    "\n",
    "\n",
    "\n"
   ]
  },
  {
   "cell_type": "code",
   "execution_count": null,
   "id": "38564930-157e-4b93-bc3a-02e1a4eb4115",
   "metadata": {},
   "outputs": [],
   "source": []
  },
  {
   "cell_type": "code",
   "execution_count": 55,
   "id": "36f9ab50-525b-4ba5-8ca0-7e37cb22bac7",
   "metadata": {},
   "outputs": [],
   "source": [
    "dataset_path = \"D:\\\\ASD_FACE\""
   ]
  },
  {
   "cell_type": "code",
   "execution_count": 36,
   "id": "661ca864-b494-4bc3-bd35-373788a0f78c",
   "metadata": {},
   "outputs": [],
   "source": [
    "def get_data(data_dir, batch_size, input_size=299, train=False):\n",
    "    if train:\n",
    "        train_datagen = ImageDataGenerator(\n",
    "            rescale=1.0/255.0,          \n",
    "            rotation_range=30,          \n",
    "            width_shift_range=0.2,    \n",
    "            height_shift_range=0.2,    \n",
    "            shear_range=0.2,             \n",
    "            zoom_range=0.2,               \n",
    "            horizontal_flip=True,        \n",
    "            fill_mode='nearest'           \n",
    "        )\n",
    "\n",
    "\n",
    "        train_data = train_datagen.flow_from_directory(\n",
    "            os.path.join(data_dir, \"train\"),\n",
    "            target_size=(input_size, input_size),\n",
    "            batch_size=batch_size,\n",
    "            class_mode='binary' \n",
    "        )\n",
    "        train_size = train_data.samples\n",
    "\n",
    "        return train_data, train_size\n",
    "\n",
    "    else:\n",
    "        eval_datagen = ImageDataGenerator(rescale=1.0/255.0)\n",
    "\n",
    "        val_data = eval_datagen.flow_from_directory(\n",
    "            os.path.join(data_dir, \"valid\"),\n",
    "            target_size=(input_size, input_size),\n",
    "            batch_size=batch_size,\n",
    "            class_mode='binary',\n",
    "            shuffle=False  \n",
    "        )\n",
    "        val_size = val_data.samples\n",
    "\n",
    "        test_data = eval_datagen.flow_from_directory(\n",
    "            os.path.join(data_dir, \"test\"),\n",
    "            target_size=(input_size, input_size),\n",
    "            batch_size=batch_size,\n",
    "            class_mode='binary',\n",
    "            shuffle=False \n",
    "        )\n",
    "        test_size = test_data.samples\n",
    "\n",
    "        return val_data, test_data, val_size, test_size\n"
   ]
  },
  {
   "cell_type": "code",
   "execution_count": 56,
   "id": "3cbdd1e0-e9f5-461b-b204-c88b360dcef9",
   "metadata": {},
   "outputs": [
    {
     "name": "stdout",
     "output_type": "stream",
     "text": [
      "Found 2536 images belonging to 2 classes.\n",
      "Found 100 images belonging to 2 classes.\n",
      "Found 300 images belonging to 2 classes.\n"
     ]
    }
   ],
   "source": [
    "(train_data, train_data_len) = get_data(dataset_path, batch_size = 32, train=True)\n",
    "(val_data, test_data, valid_data_len, test_data_len) = get_data(dataset_path, batch_size =32, train=False)"
   ]
  },
  {
   "cell_type": "code",
   "execution_count": 24,
   "id": "4c37d12f-f624-4d83-918f-864414415700",
   "metadata": {},
   "outputs": [],
   "source": [
    "def build_xception_model(input_shape, optimizer):\n",
    "    base_model = Xception(weights='imagenet', include_top=False, input_shape=input_shape)\n",
    "    base_model.trainable = False\n",
    "    inputs = Input(shape=input_shape)\n",
    "    x = base_model(inputs, training=False)\n",
    "    x = GlobalMaxPooling2D()(x)\n",
    "    x = Dense(512, activation='relu')(x)\n",
    "    x = Dropout(0.5)(x)\n",
    "    outputs = Dense(1, activation='sigmoid')(x)\n",
    "\n",
    "    model = Model(inputs, outputs)\n",
    "    model.compile(\n",
    "        optimizer=optimizer,\n",
    "        loss='binary_crossentropy',\n",
    "        metrics=['accuracy', Precision(name='precision'), Recall(name='recall'), f1_score]\n",
    "    )\n",
    "    \n",
    "    return model\n",
    "\n",
    "\n",
    "def f1_score(y_true, y_pred):\n",
    "    precision = K.sum(K.round(K.clip(y_true * y_pred, 0, 1))) / (K.sum(K.round(K.clip(y_pred, 0, 1))) + K.epsilon())\n",
    "    recall = K.sum(K.round(K.clip(y_true * y_pred, 0, 1))) / (K.sum(K.round(K.clip(y_true, 0, 1))) + K.epsilon())\n",
    "    return 2 * (precision * recall) / (precision + recall + K.epsilon())\n"
   ]
  },
  {
   "cell_type": "code",
   "execution_count": 30,
   "id": "f987fb19-d6a0-4a14-b910-9cea1038129c",
   "metadata": {},
   "outputs": [
    {
     "data": {
      "text/html": [
       "<pre style=\"white-space:pre;overflow-x:auto;line-height:normal;font-family:Menlo,'DejaVu Sans Mono',consolas,'Courier New',monospace\"><span style=\"font-weight: bold\">Model: \"functional_3\"</span>\n",
       "</pre>\n"
      ],
      "text/plain": [
       "\u001b[1mModel: \"functional_3\"\u001b[0m\n"
      ]
     },
     "metadata": {},
     "output_type": "display_data"
    },
    {
     "data": {
      "text/html": [
       "<pre style=\"white-space:pre;overflow-x:auto;line-height:normal;font-family:Menlo,'DejaVu Sans Mono',consolas,'Courier New',monospace\">┏━━━━━━━━━━━━━━━━━━━━━━━━━━━━━━━━━┳━━━━━━━━━━━━━━━━━━━━━━━━┳━━━━━━━━━━━━━━━┓\n",
       "┃<span style=\"font-weight: bold\"> Layer (type)                    </span>┃<span style=\"font-weight: bold\"> Output Shape           </span>┃<span style=\"font-weight: bold\">       Param # </span>┃\n",
       "┡━━━━━━━━━━━━━━━━━━━━━━━━━━━━━━━━━╇━━━━━━━━━━━━━━━━━━━━━━━━╇━━━━━━━━━━━━━━━┩\n",
       "│ input_layer_7 (<span style=\"color: #0087ff; text-decoration-color: #0087ff\">InputLayer</span>)      │ (<span style=\"color: #00d7ff; text-decoration-color: #00d7ff\">None</span>, <span style=\"color: #00af00; text-decoration-color: #00af00\">299</span>, <span style=\"color: #00af00; text-decoration-color: #00af00\">299</span>, <span style=\"color: #00af00; text-decoration-color: #00af00\">3</span>)    │             <span style=\"color: #00af00; text-decoration-color: #00af00\">0</span> │\n",
       "├─────────────────────────────────┼────────────────────────┼───────────────┤\n",
       "│ xception (<span style=\"color: #0087ff; text-decoration-color: #0087ff\">Functional</span>)           │ (<span style=\"color: #00d7ff; text-decoration-color: #00d7ff\">None</span>, <span style=\"color: #00af00; text-decoration-color: #00af00\">10</span>, <span style=\"color: #00af00; text-decoration-color: #00af00\">10</span>, <span style=\"color: #00af00; text-decoration-color: #00af00\">2048</span>)   │    <span style=\"color: #00af00; text-decoration-color: #00af00\">20,861,480</span> │\n",
       "├─────────────────────────────────┼────────────────────────┼───────────────┤\n",
       "│ global_max_pooling2d_3          │ (<span style=\"color: #00d7ff; text-decoration-color: #00d7ff\">None</span>, <span style=\"color: #00af00; text-decoration-color: #00af00\">2048</span>)           │             <span style=\"color: #00af00; text-decoration-color: #00af00\">0</span> │\n",
       "│ (<span style=\"color: #0087ff; text-decoration-color: #0087ff\">GlobalMaxPooling2D</span>)            │                        │               │\n",
       "├─────────────────────────────────┼────────────────────────┼───────────────┤\n",
       "│ dense_6 (<span style=\"color: #0087ff; text-decoration-color: #0087ff\">Dense</span>)                 │ (<span style=\"color: #00d7ff; text-decoration-color: #00d7ff\">None</span>, <span style=\"color: #00af00; text-decoration-color: #00af00\">512</span>)            │     <span style=\"color: #00af00; text-decoration-color: #00af00\">1,049,088</span> │\n",
       "├─────────────────────────────────┼────────────────────────┼───────────────┤\n",
       "│ dropout_3 (<span style=\"color: #0087ff; text-decoration-color: #0087ff\">Dropout</span>)             │ (<span style=\"color: #00d7ff; text-decoration-color: #00d7ff\">None</span>, <span style=\"color: #00af00; text-decoration-color: #00af00\">512</span>)            │             <span style=\"color: #00af00; text-decoration-color: #00af00\">0</span> │\n",
       "├─────────────────────────────────┼────────────────────────┼───────────────┤\n",
       "│ dense_7 (<span style=\"color: #0087ff; text-decoration-color: #0087ff\">Dense</span>)                 │ (<span style=\"color: #00d7ff; text-decoration-color: #00d7ff\">None</span>, <span style=\"color: #00af00; text-decoration-color: #00af00\">1</span>)              │           <span style=\"color: #00af00; text-decoration-color: #00af00\">513</span> │\n",
       "└─────────────────────────────────┴────────────────────────┴───────────────┘\n",
       "</pre>\n"
      ],
      "text/plain": [
       "┏━━━━━━━━━━━━━━━━━━━━━━━━━━━━━━━━━┳━━━━━━━━━━━━━━━━━━━━━━━━┳━━━━━━━━━━━━━━━┓\n",
       "┃\u001b[1m \u001b[0m\u001b[1mLayer (type)                   \u001b[0m\u001b[1m \u001b[0m┃\u001b[1m \u001b[0m\u001b[1mOutput Shape          \u001b[0m\u001b[1m \u001b[0m┃\u001b[1m \u001b[0m\u001b[1m      Param #\u001b[0m\u001b[1m \u001b[0m┃\n",
       "┡━━━━━━━━━━━━━━━━━━━━━━━━━━━━━━━━━╇━━━━━━━━━━━━━━━━━━━━━━━━╇━━━━━━━━━━━━━━━┩\n",
       "│ input_layer_7 (\u001b[38;5;33mInputLayer\u001b[0m)      │ (\u001b[38;5;45mNone\u001b[0m, \u001b[38;5;34m299\u001b[0m, \u001b[38;5;34m299\u001b[0m, \u001b[38;5;34m3\u001b[0m)    │             \u001b[38;5;34m0\u001b[0m │\n",
       "├─────────────────────────────────┼────────────────────────┼───────────────┤\n",
       "│ xception (\u001b[38;5;33mFunctional\u001b[0m)           │ (\u001b[38;5;45mNone\u001b[0m, \u001b[38;5;34m10\u001b[0m, \u001b[38;5;34m10\u001b[0m, \u001b[38;5;34m2048\u001b[0m)   │    \u001b[38;5;34m20,861,480\u001b[0m │\n",
       "├─────────────────────────────────┼────────────────────────┼───────────────┤\n",
       "│ global_max_pooling2d_3          │ (\u001b[38;5;45mNone\u001b[0m, \u001b[38;5;34m2048\u001b[0m)           │             \u001b[38;5;34m0\u001b[0m │\n",
       "│ (\u001b[38;5;33mGlobalMaxPooling2D\u001b[0m)            │                        │               │\n",
       "├─────────────────────────────────┼────────────────────────┼───────────────┤\n",
       "│ dense_6 (\u001b[38;5;33mDense\u001b[0m)                 │ (\u001b[38;5;45mNone\u001b[0m, \u001b[38;5;34m512\u001b[0m)            │     \u001b[38;5;34m1,049,088\u001b[0m │\n",
       "├─────────────────────────────────┼────────────────────────┼───────────────┤\n",
       "│ dropout_3 (\u001b[38;5;33mDropout\u001b[0m)             │ (\u001b[38;5;45mNone\u001b[0m, \u001b[38;5;34m512\u001b[0m)            │             \u001b[38;5;34m0\u001b[0m │\n",
       "├─────────────────────────────────┼────────────────────────┼───────────────┤\n",
       "│ dense_7 (\u001b[38;5;33mDense\u001b[0m)                 │ (\u001b[38;5;45mNone\u001b[0m, \u001b[38;5;34m1\u001b[0m)              │           \u001b[38;5;34m513\u001b[0m │\n",
       "└─────────────────────────────────┴────────────────────────┴───────────────┘\n"
      ]
     },
     "metadata": {},
     "output_type": "display_data"
    },
    {
     "data": {
      "text/html": [
       "<pre style=\"white-space:pre;overflow-x:auto;line-height:normal;font-family:Menlo,'DejaVu Sans Mono',consolas,'Courier New',monospace\"><span style=\"font-weight: bold\"> Total params: </span><span style=\"color: #00af00; text-decoration-color: #00af00\">21,911,081</span> (83.58 MB)\n",
       "</pre>\n"
      ],
      "text/plain": [
       "\u001b[1m Total params: \u001b[0m\u001b[38;5;34m21,911,081\u001b[0m (83.58 MB)\n"
      ]
     },
     "metadata": {},
     "output_type": "display_data"
    },
    {
     "data": {
      "text/html": [
       "<pre style=\"white-space:pre;overflow-x:auto;line-height:normal;font-family:Menlo,'DejaVu Sans Mono',consolas,'Courier New',monospace\"><span style=\"font-weight: bold\"> Trainable params: </span><span style=\"color: #00af00; text-decoration-color: #00af00\">1,049,601</span> (4.00 MB)\n",
       "</pre>\n"
      ],
      "text/plain": [
       "\u001b[1m Trainable params: \u001b[0m\u001b[38;5;34m1,049,601\u001b[0m (4.00 MB)\n"
      ]
     },
     "metadata": {},
     "output_type": "display_data"
    },
    {
     "data": {
      "text/html": [
       "<pre style=\"white-space:pre;overflow-x:auto;line-height:normal;font-family:Menlo,'DejaVu Sans Mono',consolas,'Courier New',monospace\"><span style=\"font-weight: bold\"> Non-trainable params: </span><span style=\"color: #00af00; text-decoration-color: #00af00\">20,861,480</span> (79.58 MB)\n",
       "</pre>\n"
      ],
      "text/plain": [
       "\u001b[1m Non-trainable params: \u001b[0m\u001b[38;5;34m20,861,480\u001b[0m (79.58 MB)\n"
      ]
     },
     "metadata": {},
     "output_type": "display_data"
    }
   ],
   "source": [
    "input_shape = (299, 299, 3)\n",
    "optimizer = Adagrad(learning_rate=0.001)\n",
    "model = build_xception_model(input_shape, optimizer)\n",
    "\n",
    "model.summary()"
   ]
  },
  {
   "cell_type": "code",
   "execution_count": 39,
   "id": "358e716a-ca6e-4cd5-9fe0-c4589e2d15fe",
   "metadata": {},
   "outputs": [],
   "source": [
    "def train_and_eval_model(model, train_data, val_data, batch_size=32, epochs=10, patience=5, model_save_path='best_model.h5'):\n",
    "\n",
    "    early_stopping = EarlyStopping(\n",
    "        monitor='val_loss',\n",
    "        patience=patience,\n",
    "        restore_best_weights=True,\n",
    "        verbose=1\n",
    "    )\n",
    "\n",
    "    model_checkpoint = ModelCheckpoint(\n",
    "        filepath=model_save_path,\n",
    "        monitor='val_loss',\n",
    "        save_best_only=True,\n",
    "        verbose=1\n",
    "    )\n",
    "\n",
    "    history = model.fit(\n",
    "        train_data,\n",
    "        validation_data=val_data,\n",
    "        epochs=epochs,\n",
    "        batch_size=batch_size,\n",
    "        callbacks=[early_stopping, model_checkpoint],\n",
    "        verbose=1\n",
    "    )\n",
    "    \n",
    "    return history\n"
   ]
  },
  {
   "cell_type": "code",
   "execution_count": 57,
   "id": "91385fbb-a713-4f96-a8da-0ec5824b14bf",
   "metadata": {},
   "outputs": [
    {
     "name": "stdout",
     "output_type": "stream",
     "text": [
      "Epoch 1/50\n",
      "\u001b[1m80/80\u001b[0m \u001b[32m━━━━━━━━━━━━━━━━━━━━\u001b[0m\u001b[37m\u001b[0m \u001b[1m0s\u001b[0m 2s/step - accuracy: 0.6877 - f1_score: 16.0573 - loss: 0.5753 - precision: 0.6890 - recall: 0.6956\n",
      "Epoch 1: val_loss improved from inf to 0.55349, saving model to xception_best_model.keras\n",
      "\u001b[1m80/80\u001b[0m \u001b[32m━━━━━━━━━━━━━━━━━━━━\u001b[0m\u001b[37m\u001b[0m \u001b[1m135s\u001b[0m 2s/step - accuracy: 0.6878 - f1_score: 16.0520 - loss: 0.5752 - precision: 0.6890 - recall: 0.6955 - val_accuracy: 0.7700 - val_f1_score: 11.5428 - val_loss: 0.5535 - val_precision: 0.7455 - val_recall: 0.8200\n",
      "Epoch 2/50\n",
      "\u001b[1m80/80\u001b[0m \u001b[32m━━━━━━━━━━━━━━━━━━━━\u001b[0m\u001b[37m\u001b[0m \u001b[1m0s\u001b[0m 1s/step - accuracy: 0.6781 - f1_score: 15.6573 - loss: 0.5927 - precision: 0.6727 - recall: 0.6776\n",
      "Epoch 2: val_loss did not improve from 0.55349\n",
      "\u001b[1m80/80\u001b[0m \u001b[32m━━━━━━━━━━━━━━━━━━━━\u001b[0m\u001b[37m\u001b[0m \u001b[1m113s\u001b[0m 1s/step - accuracy: 0.6781 - f1_score: 15.6545 - loss: 0.5925 - precision: 0.6729 - recall: 0.6775 - val_accuracy: 0.7400 - val_f1_score: 11.7931 - val_loss: 0.5610 - val_precision: 0.7069 - val_recall: 0.8200\n",
      "Epoch 3/50\n",
      "\u001b[1m80/80\u001b[0m \u001b[32m━━━━━━━━━━━━━━━━━━━━\u001b[0m\u001b[37m\u001b[0m \u001b[1m0s\u001b[0m 1s/step - accuracy: 0.6973 - f1_score: 16.0626 - loss: 0.5688 - precision: 0.6796 - recall: 0.7292\n",
      "Epoch 3: val_loss improved from 0.55349 to 0.54752, saving model to xception_best_model.keras\n",
      "\u001b[1m80/80\u001b[0m \u001b[32m━━━━━━━━━━━━━━━━━━━━\u001b[0m\u001b[37m\u001b[0m \u001b[1m114s\u001b[0m 1s/step - accuracy: 0.6973 - f1_score: 16.0599 - loss: 0.5688 - precision: 0.6797 - recall: 0.7289 - val_accuracy: 0.7600 - val_f1_score: 11.3879 - val_loss: 0.5475 - val_precision: 0.7407 - val_recall: 0.8000\n",
      "Epoch 4/50\n",
      "\u001b[1m80/80\u001b[0m \u001b[32m━━━━━━━━━━━━━━━━━━━━\u001b[0m\u001b[37m\u001b[0m \u001b[1m0s\u001b[0m 1s/step - accuracy: 0.6842 - f1_score: 15.1597 - loss: 0.5757 - precision: 0.6863 - recall: 0.6775\n",
      "Epoch 4: val_loss did not improve from 0.54752\n",
      "\u001b[1m80/80\u001b[0m \u001b[32m━━━━━━━━━━━━━━━━━━━━\u001b[0m\u001b[37m\u001b[0m \u001b[1m115s\u001b[0m 1s/step - accuracy: 0.6843 - f1_score: 15.1631 - loss: 0.5757 - precision: 0.6865 - recall: 0.6776 - val_accuracy: 0.7600 - val_f1_score: 11.3879 - val_loss: 0.5490 - val_precision: 0.7407 - val_recall: 0.8000\n",
      "Epoch 5/50\n",
      "\u001b[1m80/80\u001b[0m \u001b[32m━━━━━━━━━━━━━━━━━━━━\u001b[0m\u001b[37m\u001b[0m \u001b[1m0s\u001b[0m 1s/step - accuracy: 0.6944 - f1_score: 15.5759 - loss: 0.5847 - precision: 0.6997 - recall: 0.6817\n",
      "Epoch 5: val_loss improved from 0.54752 to 0.54547, saving model to xception_best_model.keras\n",
      "\u001b[1m80/80\u001b[0m \u001b[32m━━━━━━━━━━━━━━━━━━━━\u001b[0m\u001b[37m\u001b[0m \u001b[1m116s\u001b[0m 1s/step - accuracy: 0.6945 - f1_score: 15.5758 - loss: 0.5846 - precision: 0.6998 - recall: 0.6818 - val_accuracy: 0.7500 - val_f1_score: 11.2275 - val_loss: 0.5455 - val_precision: 0.7358 - val_recall: 0.7800\n",
      "Epoch 6/50\n",
      "\u001b[1m80/80\u001b[0m \u001b[32m━━━━━━━━━━━━━━━━━━━━\u001b[0m\u001b[37m\u001b[0m \u001b[1m0s\u001b[0m 2s/step - accuracy: 0.6960 - f1_score: 16.1494 - loss: 0.5720 - precision: 0.7074 - recall: 0.7050\n",
      "Epoch 6: val_loss did not improve from 0.54547\n",
      "\u001b[1m80/80\u001b[0m \u001b[32m━━━━━━━━━━━━━━━━━━━━\u001b[0m\u001b[37m\u001b[0m \u001b[1m173s\u001b[0m 2s/step - accuracy: 0.6961 - f1_score: 16.1411 - loss: 0.5719 - precision: 0.7074 - recall: 0.7049 - val_accuracy: 0.7500 - val_f1_score: 11.2275 - val_loss: 0.5480 - val_precision: 0.7358 - val_recall: 0.7800\n",
      "Epoch 7/50\n",
      "\u001b[1m80/80\u001b[0m \u001b[32m━━━━━━━━━━━━━━━━━━━━\u001b[0m\u001b[37m\u001b[0m \u001b[1m0s\u001b[0m 2s/step - accuracy: 0.7136 - f1_score: 15.4914 - loss: 0.5539 - precision: 0.7136 - recall: 0.7089\n",
      "Epoch 7: val_loss did not improve from 0.54547\n",
      "\u001b[1m80/80\u001b[0m \u001b[32m━━━━━━━━━━━━━━━━━━━━\u001b[0m\u001b[37m\u001b[0m \u001b[1m152s\u001b[0m 2s/step - accuracy: 0.7136 - f1_score: 15.4914 - loss: 0.5540 - precision: 0.7136 - recall: 0.7087 - val_accuracy: 0.7500 - val_f1_score: 11.5175 - val_loss: 0.5511 - val_precision: 0.7273 - val_recall: 0.8000\n",
      "Epoch 8/50\n",
      "\u001b[1m80/80\u001b[0m \u001b[32m━━━━━━━━━━━━━━━━━━━━\u001b[0m\u001b[37m\u001b[0m \u001b[1m0s\u001b[0m 1s/step - accuracy: 0.6907 - f1_score: 15.5806 - loss: 0.5768 - precision: 0.6817 - recall: 0.6945\n",
      "Epoch 8: val_loss did not improve from 0.54547\n",
      "\u001b[1m80/80\u001b[0m \u001b[32m━━━━━━━━━━━━━━━━━━━━\u001b[0m\u001b[37m\u001b[0m \u001b[1m126s\u001b[0m 2s/step - accuracy: 0.6907 - f1_score: 15.5810 - loss: 0.5768 - precision: 0.6819 - recall: 0.6944 - val_accuracy: 0.7400 - val_f1_score: 11.5175 - val_loss: 0.5489 - val_precision: 0.7143 - val_recall: 0.8000\n",
      "Epoch 9/50\n",
      "\u001b[1m80/80\u001b[0m \u001b[32m━━━━━━━━━━━━━━━━━━━━\u001b[0m\u001b[37m\u001b[0m \u001b[1m0s\u001b[0m 1s/step - accuracy: 0.6938 - f1_score: 15.5187 - loss: 0.5671 - precision: 0.6891 - recall: 0.6938\n",
      "Epoch 9: val_loss improved from 0.54547 to 0.54521, saving model to xception_best_model.keras\n",
      "\u001b[1m80/80\u001b[0m \u001b[32m━━━━━━━━━━━━━━━━━━━━\u001b[0m\u001b[37m\u001b[0m \u001b[1m127s\u001b[0m 2s/step - accuracy: 0.6938 - f1_score: 15.5206 - loss: 0.5671 - precision: 0.6892 - recall: 0.6938 - val_accuracy: 0.7300 - val_f1_score: 11.3571 - val_loss: 0.5452 - val_precision: 0.7091 - val_recall: 0.7800\n",
      "Epoch 10/50\n",
      "\u001b[1m80/80\u001b[0m \u001b[32m━━━━━━━━━━━━━━━━━━━━\u001b[0m\u001b[37m\u001b[0m \u001b[1m0s\u001b[0m 1s/step - accuracy: 0.7059 - f1_score: 16.0330 - loss: 0.5716 - precision: 0.7077 - recall: 0.7096\n",
      "Epoch 10: val_loss improved from 0.54521 to 0.54320, saving model to xception_best_model.keras\n",
      "\u001b[1m80/80\u001b[0m \u001b[32m━━━━━━━━━━━━━━━━━━━━\u001b[0m\u001b[37m\u001b[0m \u001b[1m125s\u001b[0m 2s/step - accuracy: 0.7058 - f1_score: 16.0287 - loss: 0.5716 - precision: 0.7076 - recall: 0.7095 - val_accuracy: 0.7400 - val_f1_score: 11.0613 - val_loss: 0.5432 - val_precision: 0.7308 - val_recall: 0.7600\n",
      "Epoch 11/50\n",
      "\u001b[1m80/80\u001b[0m \u001b[32m━━━━━━━━━━━━━━━━━━━━\u001b[0m\u001b[37m\u001b[0m \u001b[1m0s\u001b[0m 1s/step - accuracy: 0.7221 - f1_score: 14.1675 - loss: 0.5522 - precision: 0.7036 - recall: 0.6964\n",
      "Epoch 11: val_loss did not improve from 0.54320\n",
      "\u001b[1m80/80\u001b[0m \u001b[32m━━━━━━━━━━━━━━━━━━━━\u001b[0m\u001b[37m\u001b[0m \u001b[1m125s\u001b[0m 2s/step - accuracy: 0.7219 - f1_score: 14.1836 - loss: 0.5523 - precision: 0.7037 - recall: 0.6964 - val_accuracy: 0.7300 - val_f1_score: 11.6382 - val_loss: 0.5474 - val_precision: 0.7018 - val_recall: 0.8000\n",
      "Epoch 12/50\n",
      "\u001b[1m80/80\u001b[0m \u001b[32m━━━━━━━━━━━━━━━━━━━━\u001b[0m\u001b[37m\u001b[0m \u001b[1m0s\u001b[0m 1s/step - accuracy: 0.7021 - f1_score: 16.4520 - loss: 0.5705 - precision: 0.7180 - recall: 0.7100\n",
      "Epoch 12: val_loss did not improve from 0.54320\n",
      "\u001b[1m80/80\u001b[0m \u001b[32m━━━━━━━━━━━━━━━━━━━━\u001b[0m\u001b[37m\u001b[0m \u001b[1m124s\u001b[0m 2s/step - accuracy: 0.7021 - f1_score: 16.4410 - loss: 0.5705 - precision: 0.7178 - recall: 0.7099 - val_accuracy: 0.7300 - val_f1_score: 11.0613 - val_loss: 0.5471 - val_precision: 0.7170 - val_recall: 0.7600\n",
      "Epoch 13/50\n",
      "\u001b[1m80/80\u001b[0m \u001b[32m━━━━━━━━━━━━━━━━━━━━\u001b[0m\u001b[37m\u001b[0m \u001b[1m0s\u001b[0m 1s/step - accuracy: 0.7060 - f1_score: 15.1399 - loss: 0.5643 - precision: 0.7147 - recall: 0.6748\n",
      "Epoch 13: val_loss did not improve from 0.54320\n",
      "\u001b[1m80/80\u001b[0m \u001b[32m━━━━━━━━━━━━━━━━━━━━\u001b[0m\u001b[37m\u001b[0m \u001b[1m125s\u001b[0m 2s/step - accuracy: 0.7060 - f1_score: 15.1427 - loss: 0.5643 - precision: 0.7146 - recall: 0.6749 - val_accuracy: 0.7400 - val_f1_score: 11.5175 - val_loss: 0.5459 - val_precision: 0.7143 - val_recall: 0.8000\n",
      "Epoch 14/50\n",
      "\u001b[1m80/80\u001b[0m \u001b[32m━━━━━━━━━━━━━━━━━━━━\u001b[0m\u001b[37m\u001b[0m \u001b[1m0s\u001b[0m 1s/step - accuracy: 0.7146 - f1_score: 16.1694 - loss: 0.5607 - precision: 0.7127 - recall: 0.7305\n",
      "Epoch 14: val_loss improved from 0.54320 to 0.53896, saving model to xception_best_model.keras\n",
      "\u001b[1m80/80\u001b[0m \u001b[32m━━━━━━━━━━━━━━━━━━━━\u001b[0m\u001b[37m\u001b[0m \u001b[1m125s\u001b[0m 2s/step - accuracy: 0.7146 - f1_score: 16.1625 - loss: 0.5607 - precision: 0.7128 - recall: 0.7302 - val_accuracy: 0.7500 - val_f1_score: 11.2275 - val_loss: 0.5390 - val_precision: 0.7358 - val_recall: 0.7800\n",
      "Epoch 15/50\n",
      "\u001b[1m80/80\u001b[0m \u001b[32m━━━━━━━━━━━━━━━━━━━━\u001b[0m\u001b[37m\u001b[0m \u001b[1m0s\u001b[0m 1s/step - accuracy: 0.7136 - f1_score: 15.3649 - loss: 0.5453 - precision: 0.7250 - recall: 0.6940\n",
      "Epoch 15: val_loss improved from 0.53896 to 0.53741, saving model to xception_best_model.keras\n",
      "\u001b[1m80/80\u001b[0m \u001b[32m━━━━━━━━━━━━━━━━━━━━\u001b[0m\u001b[37m\u001b[0m \u001b[1m125s\u001b[0m 2s/step - accuracy: 0.7136 - f1_score: 15.3661 - loss: 0.5455 - precision: 0.7250 - recall: 0.6941 - val_accuracy: 0.7600 - val_f1_score: 11.3879 - val_loss: 0.5374 - val_precision: 0.7407 - val_recall: 0.8000\n",
      "Epoch 16/50\n",
      "\u001b[1m80/80\u001b[0m \u001b[32m━━━━━━━━━━━━━━━━━━━━\u001b[0m\u001b[37m\u001b[0m \u001b[1m0s\u001b[0m 1s/step - accuracy: 0.7011 - f1_score: 15.3855 - loss: 0.5613 - precision: 0.7083 - recall: 0.6845\n",
      "Epoch 16: val_loss improved from 0.53741 to 0.53491, saving model to xception_best_model.keras\n",
      "\u001b[1m80/80\u001b[0m \u001b[32m━━━━━━━━━━━━━━━━━━━━\u001b[0m\u001b[37m\u001b[0m \u001b[1m144s\u001b[0m 2s/step - accuracy: 0.7013 - f1_score: 15.3863 - loss: 0.5612 - precision: 0.7085 - recall: 0.6848 - val_accuracy: 0.7600 - val_f1_score: 11.3879 - val_loss: 0.5349 - val_precision: 0.7407 - val_recall: 0.8000\n",
      "Epoch 17/50\n",
      "\u001b[1m80/80\u001b[0m \u001b[32m━━━━━━━━━━━━━━━━━━━━\u001b[0m\u001b[37m\u001b[0m \u001b[1m0s\u001b[0m 1s/step - accuracy: 0.7314 - f1_score: 14.6496 - loss: 0.5564 - precision: 0.7321 - recall: 0.7084\n",
      "Epoch 17: val_loss did not improve from 0.53491\n",
      "\u001b[1m80/80\u001b[0m \u001b[32m━━━━━━━━━━━━━━━━━━━━\u001b[0m\u001b[37m\u001b[0m \u001b[1m124s\u001b[0m 2s/step - accuracy: 0.7312 - f1_score: 14.6616 - loss: 0.5565 - precision: 0.7319 - recall: 0.7084 - val_accuracy: 0.7500 - val_f1_score: 11.5175 - val_loss: 0.5375 - val_precision: 0.7273 - val_recall: 0.8000\n",
      "Epoch 18/50\n",
      "\u001b[1m80/80\u001b[0m \u001b[32m━━━━━━━━━━━━━━━━━━━━\u001b[0m\u001b[37m\u001b[0m \u001b[1m0s\u001b[0m 1s/step - accuracy: 0.7204 - f1_score: 15.2953 - loss: 0.5436 - precision: 0.7215 - recall: 0.7014\n",
      "Epoch 18: val_loss did not improve from 0.53491\n",
      "\u001b[1m80/80\u001b[0m \u001b[32m━━━━━━━━━━━━━━━━━━━━\u001b[0m\u001b[37m\u001b[0m \u001b[1m125s\u001b[0m 2s/step - accuracy: 0.7203 - f1_score: 15.2981 - loss: 0.5438 - precision: 0.7214 - recall: 0.7014 - val_accuracy: 0.7400 - val_f1_score: 11.7931 - val_loss: 0.5418 - val_precision: 0.7069 - val_recall: 0.8200\n",
      "Epoch 19/50\n",
      "\u001b[1m80/80\u001b[0m \u001b[32m━━━━━━━━━━━━━━━━━━━━\u001b[0m\u001b[37m\u001b[0m \u001b[1m0s\u001b[0m 1s/step - accuracy: 0.7134 - f1_score: 15.6688 - loss: 0.5456 - precision: 0.7125 - recall: 0.7095\n",
      "Epoch 19: val_loss did not improve from 0.53491\n",
      "\u001b[1m80/80\u001b[0m \u001b[32m━━━━━━━━━━━━━━━━━━━━\u001b[0m\u001b[37m\u001b[0m \u001b[1m125s\u001b[0m 2s/step - accuracy: 0.7134 - f1_score: 15.6681 - loss: 0.5458 - precision: 0.7124 - recall: 0.7094 - val_accuracy: 0.7500 - val_f1_score: 11.5175 - val_loss: 0.5413 - val_precision: 0.7273 - val_recall: 0.8000\n",
      "Epoch 20/50\n",
      "\u001b[1m80/80\u001b[0m \u001b[32m━━━━━━━━━━━━━━━━━━━━\u001b[0m\u001b[37m\u001b[0m \u001b[1m0s\u001b[0m 1s/step - accuracy: 0.7108 - f1_score: 15.6812 - loss: 0.5662 - precision: 0.7259 - recall: 0.6962\n",
      "Epoch 20: val_loss did not improve from 0.53491\n",
      "\u001b[1m80/80\u001b[0m \u001b[32m━━━━━━━━━━━━━━━━━━━━\u001b[0m\u001b[37m\u001b[0m \u001b[1m124s\u001b[0m 2s/step - accuracy: 0.7108 - f1_score: 15.6788 - loss: 0.5661 - precision: 0.7259 - recall: 0.6962 - val_accuracy: 0.7500 - val_f1_score: 11.3879 - val_loss: 0.5411 - val_precision: 0.7273 - val_recall: 0.8000\n",
      "Epoch 21/50\n",
      "\u001b[1m80/80\u001b[0m \u001b[32m━━━━━━━━━━━━━━━━━━━━\u001b[0m\u001b[37m\u001b[0m \u001b[1m0s\u001b[0m 1s/step - accuracy: 0.7038 - f1_score: 15.8308 - loss: 0.5673 - precision: 0.7146 - recall: 0.6954\n",
      "Epoch 21: val_loss did not improve from 0.53491\n",
      "\u001b[1m80/80\u001b[0m \u001b[32m━━━━━━━━━━━━━━━━━━━━\u001b[0m\u001b[37m\u001b[0m \u001b[1m125s\u001b[0m 2s/step - accuracy: 0.7040 - f1_score: 15.8271 - loss: 0.5672 - precision: 0.7147 - recall: 0.6955 - val_accuracy: 0.7300 - val_f1_score: 11.6382 - val_loss: 0.5433 - val_precision: 0.7018 - val_recall: 0.8000\n",
      "Epoch 21: early stopping\n",
      "Restoring model weights from the end of the best epoch: 16.\n"
     ]
    }
   ],
   "source": [
    "history = train_and_eval_model(\n",
    "    model=model,\n",
    "    train_data=train_data,\n",
    "    val_data=val_data,\n",
    "    batch_size=32,\n",
    "    epochs=50,\n",
    "    patience=5,\n",
    "    model_save_path='xception_best_model.keras'\n",
    ")"
   ]
  },
  {
   "cell_type": "code",
   "execution_count": 58,
   "id": "9b0993f7-a57b-4311-b3d8-33992a179814",
   "metadata": {},
   "outputs": [],
   "source": [
    "def build_model(input_shape, optimizer, learning_rate):\n",
    "    base_model = Xception(weights='imagenet', include_top=False, input_shape=input_shape)\n",
    "    base_model.trainable = False  \n",
    "\n",
    "    inputs = Input(shape=input_shape)\n",
    "    x = base_model(inputs, training=False)\n",
    "    x = GlobalMaxPooling2D()(x)\n",
    "    x = Dense(512, activation='relu')(x)\n",
    "    x = Dropout(0.5)(x)\n",
    "    outputs = Dense(1, activation='sigmoid')(x)\n",
    "\n",
    "    if optimizer == \"adam\":\n",
    "        opt = Adam(learning_rate=learning_rate)\n",
    "    elif optimizer == \"adagrad\":\n",
    "        opt = Adagrad(learning_rate=learning_rate)\n",
    "    else:\n",
    "        raise ValueError(f\"Unsupported optimizer: {optimizer}\")\n",
    "\n",
    " \n",
    "    model = Model(inputs, outputs)\n",
    "    model.compile(\n",
    "        optimizer=opt,\n",
    "        loss='binary_crossentropy',\n",
    "        metrics=['accuracy', Precision(name='precision'), Recall(name='recall')]\n",
    "    )\n",
    "    return model"
   ]
  },
  {
   "cell_type": "code",
   "execution_count": 59,
   "id": "308b602b-424b-40ee-8f4c-7f778a3a259c",
   "metadata": {},
   "outputs": [],
   "source": [
    "def objective(trial):\n",
    "\n",
    "    optimizer = trial.suggest_categorical(\"optimizer\", [\"adam\", \"adagrad\"])\n",
    "    learning_rate = trial.suggest_float(\"learning_rate\", 1e-4, 1e-2) \n",
    "    input_shape = (299, 299, 3)\n",
    "    model = build_model(input_shape, optimizer, learning_rate)\n",
    "\n",
    "    early_stopping = EarlyStopping(\n",
    "        monitor='val_loss', patience=3, restore_best_weights=True, verbose=1\n",
    "    )\n",
    "\n",
    "    history = model.fit(\n",
    "        train_data,\n",
    "        validation_data=val_data,\n",
    "        epochs=10,  \n",
    "        batch_size=32,\n",
    "        callbacks=[early_stopping],\n",
    "        verbose=0 \n",
    "    )\n",
    "\n",
    "\n",
    "    return min(history.history['val_loss'])"
   ]
  },
  {
   "cell_type": "code",
   "execution_count": 60,
   "id": "b42caccb-a63f-4d65-a558-1c4a1b388e89",
   "metadata": {},
   "outputs": [
    {
     "name": "stderr",
     "output_type": "stream",
     "text": [
      "[I 2024-12-01 12:23:04,062] A new study created in memory with name: no-name-f77f7548-120e-4b2f-82bf-759cbe020491\n"
     ]
    },
    {
     "name": "stdout",
     "output_type": "stream",
     "text": [
      "Epoch 9: early stopping\n",
      "Restoring model weights from the end of the best epoch: 6.\n"
     ]
    },
    {
     "name": "stderr",
     "output_type": "stream",
     "text": [
      "[I 2024-12-01 12:41:59,606] Trial 0 finished with value: 0.5367881059646606 and parameters: {'optimizer': 'adagrad', 'learning_rate': 0.008527480442022449}. Best is trial 0 with value: 0.5367881059646606.\n"
     ]
    },
    {
     "name": "stdout",
     "output_type": "stream",
     "text": [
      "Epoch 9: early stopping\n",
      "Restoring model weights from the end of the best epoch: 6.\n"
     ]
    },
    {
     "name": "stderr",
     "output_type": "stream",
     "text": [
      "[I 2024-12-01 13:00:40,239] Trial 1 finished with value: 0.5260069370269775 and parameters: {'optimizer': 'adagrad', 'learning_rate': 0.0012804945934927515}. Best is trial 1 with value: 0.5260069370269775.\n"
     ]
    },
    {
     "name": "stdout",
     "output_type": "stream",
     "text": [
      "Epoch 5: early stopping\n",
      "Restoring model weights from the end of the best epoch: 2.\n"
     ]
    },
    {
     "name": "stderr",
     "output_type": "stream",
     "text": [
      "[I 2024-12-01 13:11:01,990] Trial 2 finished with value: 0.5556020736694336 and parameters: {'optimizer': 'adam', 'learning_rate': 0.0034788077947715762}. Best is trial 1 with value: 0.5260069370269775.\n"
     ]
    },
    {
     "name": "stdout",
     "output_type": "stream",
     "text": [
      "Epoch 8: early stopping\n",
      "Restoring model weights from the end of the best epoch: 5.\n"
     ]
    },
    {
     "name": "stderr",
     "output_type": "stream",
     "text": [
      "[I 2024-12-01 13:27:41,163] Trial 3 finished with value: 0.5402222871780396 and parameters: {'optimizer': 'adagrad', 'learning_rate': 0.008847139426124431}. Best is trial 1 with value: 0.5260069370269775.\n"
     ]
    },
    {
     "name": "stdout",
     "output_type": "stream",
     "text": [
      "Epoch 5: early stopping\n",
      "Restoring model weights from the end of the best epoch: 2.\n"
     ]
    },
    {
     "name": "stderr",
     "output_type": "stream",
     "text": [
      "[I 2024-12-01 13:38:02,854] Trial 4 finished with value: 0.5384648442268372 and parameters: {'optimizer': 'adagrad', 'learning_rate': 0.006790014238496976}. Best is trial 1 with value: 0.5260069370269775.\n"
     ]
    }
   ],
   "source": [
    "study = optuna.create_study(direction=\"minimize\")  \n",
    "study.optimize(objective, n_trials=5) "
   ]
  },
  {
   "cell_type": "code",
   "execution_count": 61,
   "id": "9fac931b-3b20-426f-9f99-9b22c81775ef",
   "metadata": {},
   "outputs": [
    {
     "name": "stdout",
     "output_type": "stream",
     "text": [
      "Best Trial:\n",
      "Optimizer: adagrad\n",
      "Learning Rate: 0.0012804945934927515\n",
      "Validation Loss: 0.5260069370269775\n"
     ]
    }
   ],
   "source": [
    "print(\"Best Trial:\")\n",
    "print(f\"Optimizer: {study.best_trial.params['optimizer']}\")\n",
    "print(f\"Learning Rate: {study.best_trial.params['learning_rate']}\")\n",
    "print(f\"Validation Loss: {study.best_value}\")"
   ]
  },
  {
   "cell_type": "code",
   "execution_count": 62,
   "id": "7cf6f6fb-606c-47e0-b3e4-f1488813f856",
   "metadata": {},
   "outputs": [
    {
     "name": "stdout",
     "output_type": "stream",
     "text": [
      "Best Optimizer: adagrad\n",
      "Best Learning Rate: 0.0012804945934927515\n",
      "Epoch 1/20\n",
      "\u001b[1m80/80\u001b[0m \u001b[32m━━━━━━━━━━━━━━━━━━━━\u001b[0m\u001b[37m\u001b[0m \u001b[1m0s\u001b[0m 1s/step - accuracy: 0.5243 - loss: 0.9971 - precision: 0.5422 - recall: 0.5198\n",
      "Epoch 1: val_loss improved from inf to 0.60181, saving model to xception_best_model.keras\n",
      "\u001b[1m80/80\u001b[0m \u001b[32m━━━━━━━━━━━━━━━━━━━━\u001b[0m\u001b[37m\u001b[0m \u001b[1m127s\u001b[0m 2s/step - accuracy: 0.5246 - loss: 0.9958 - precision: 0.5423 - recall: 0.5201 - val_accuracy: 0.7000 - val_loss: 0.6018 - val_precision: 0.7381 - val_recall: 0.6200\n",
      "Epoch 2/20\n",
      "\u001b[1m80/80\u001b[0m \u001b[32m━━━━━━━━━━━━━━━━━━━━\u001b[0m\u001b[37m\u001b[0m \u001b[1m0s\u001b[0m 1s/step - accuracy: 0.6036 - loss: 0.7322 - precision: 0.5884 - recall: 0.5691\n",
      "Epoch 2: val_loss improved from 0.60181 to 0.59172, saving model to xception_best_model.keras\n",
      "\u001b[1m80/80\u001b[0m \u001b[32m━━━━━━━━━━━━━━━━━━━━\u001b[0m\u001b[37m\u001b[0m \u001b[1m124s\u001b[0m 2s/step - accuracy: 0.6037 - loss: 0.7318 - precision: 0.5888 - recall: 0.5696 - val_accuracy: 0.6900 - val_loss: 0.5917 - val_precision: 0.6610 - val_recall: 0.7800\n",
      "Epoch 3/20\n",
      "\u001b[1m80/80\u001b[0m \u001b[32m━━━━━━━━━━━━━━━━━━━━\u001b[0m\u001b[37m\u001b[0m \u001b[1m0s\u001b[0m 1s/step - accuracy: 0.6187 - loss: 0.6779 - precision: 0.6303 - recall: 0.6444\n",
      "Epoch 3: val_loss improved from 0.59172 to 0.58924, saving model to xception_best_model.keras\n",
      "\u001b[1m80/80\u001b[0m \u001b[32m━━━━━━━━━━━━━━━━━━━━\u001b[0m\u001b[37m\u001b[0m \u001b[1m125s\u001b[0m 2s/step - accuracy: 0.6188 - loss: 0.6778 - precision: 0.6303 - recall: 0.6442 - val_accuracy: 0.7000 - val_loss: 0.5892 - val_precision: 0.7174 - val_recall: 0.6600\n",
      "Epoch 4/20\n",
      "\u001b[1m80/80\u001b[0m \u001b[32m━━━━━━━━━━━━━━━━━━━━\u001b[0m\u001b[37m\u001b[0m \u001b[1m0s\u001b[0m 1s/step - accuracy: 0.6534 - loss: 0.6349 - precision: 0.6499 - recall: 0.6317\n",
      "Epoch 4: val_loss improved from 0.58924 to 0.58589, saving model to xception_best_model.keras\n",
      "\u001b[1m80/80\u001b[0m \u001b[32m━━━━━━━━━━━━━━━━━━━━\u001b[0m\u001b[37m\u001b[0m \u001b[1m125s\u001b[0m 2s/step - accuracy: 0.6534 - loss: 0.6350 - precision: 0.6500 - recall: 0.6318 - val_accuracy: 0.6800 - val_loss: 0.5859 - val_precision: 0.7045 - val_recall: 0.6200\n",
      "Epoch 5/20\n",
      "\u001b[1m80/80\u001b[0m \u001b[32m━━━━━━━━━━━━━━━━━━━━\u001b[0m\u001b[37m\u001b[0m \u001b[1m0s\u001b[0m 1s/step - accuracy: 0.6566 - loss: 0.6189 - precision: 0.6583 - recall: 0.6631\n",
      "Epoch 5: val_loss improved from 0.58589 to 0.57932, saving model to xception_best_model.keras\n",
      "\u001b[1m80/80\u001b[0m \u001b[32m━━━━━━━━━━━━━━━━━━━━\u001b[0m\u001b[37m\u001b[0m \u001b[1m122s\u001b[0m 1s/step - accuracy: 0.6567 - loss: 0.6188 - precision: 0.6584 - recall: 0.6631 - val_accuracy: 0.7000 - val_loss: 0.5793 - val_precision: 0.7000 - val_recall: 0.7000\n",
      "Epoch 6/20\n",
      "\u001b[1m80/80\u001b[0m \u001b[32m━━━━━━━━━━━━━━━━━━━━\u001b[0m\u001b[37m\u001b[0m \u001b[1m0s\u001b[0m 1s/step - accuracy: 0.6728 - loss: 0.6046 - precision: 0.6809 - recall: 0.6769\n",
      "Epoch 6: val_loss improved from 0.57932 to 0.57860, saving model to xception_best_model.keras\n",
      "\u001b[1m80/80\u001b[0m \u001b[32m━━━━━━━━━━━━━━━━━━━━\u001b[0m\u001b[37m\u001b[0m \u001b[1m125s\u001b[0m 2s/step - accuracy: 0.6728 - loss: 0.6047 - precision: 0.6808 - recall: 0.6768 - val_accuracy: 0.7000 - val_loss: 0.5786 - val_precision: 0.7083 - val_recall: 0.6800\n",
      "Epoch 7/20\n",
      "\u001b[1m80/80\u001b[0m \u001b[32m━━━━━━━━━━━━━━━━━━━━\u001b[0m\u001b[37m\u001b[0m \u001b[1m0s\u001b[0m 1s/step - accuracy: 0.6951 - loss: 0.5807 - precision: 0.6874 - recall: 0.6858\n",
      "Epoch 7: val_loss did not improve from 0.57860\n",
      "\u001b[1m80/80\u001b[0m \u001b[32m━━━━━━━━━━━━━━━━━━━━\u001b[0m\u001b[37m\u001b[0m \u001b[1m127s\u001b[0m 2s/step - accuracy: 0.6951 - loss: 0.5807 - precision: 0.6874 - recall: 0.6860 - val_accuracy: 0.7000 - val_loss: 0.5788 - val_precision: 0.7174 - val_recall: 0.6600\n",
      "Epoch 8/20\n",
      "\u001b[1m80/80\u001b[0m \u001b[32m━━━━━━━━━━━━━━━━━━━━\u001b[0m\u001b[37m\u001b[0m \u001b[1m0s\u001b[0m 1s/step - accuracy: 0.6802 - loss: 0.6050 - precision: 0.6785 - recall: 0.6636\n",
      "Epoch 8: val_loss improved from 0.57860 to 0.57246, saving model to xception_best_model.keras\n",
      "\u001b[1m80/80\u001b[0m \u001b[32m━━━━━━━━━━━━━━━━━━━━\u001b[0m\u001b[37m\u001b[0m \u001b[1m125s\u001b[0m 2s/step - accuracy: 0.6801 - loss: 0.6050 - precision: 0.6784 - recall: 0.6637 - val_accuracy: 0.7300 - val_loss: 0.5725 - val_precision: 0.7255 - val_recall: 0.7400\n",
      "Epoch 9/20\n",
      "\u001b[1m80/80\u001b[0m \u001b[32m━━━━━━━━━━━━━━━━━━━━\u001b[0m\u001b[37m\u001b[0m \u001b[1m0s\u001b[0m 1s/step - accuracy: 0.6961 - loss: 0.5791 - precision: 0.6934 - recall: 0.7068\n",
      "Epoch 9: val_loss improved from 0.57246 to 0.56866, saving model to xception_best_model.keras\n",
      "\u001b[1m80/80\u001b[0m \u001b[32m━━━━━━━━━━━━━━━━━━━━\u001b[0m\u001b[37m\u001b[0m \u001b[1m125s\u001b[0m 2s/step - accuracy: 0.6959 - loss: 0.5793 - precision: 0.6933 - recall: 0.7065 - val_accuracy: 0.7200 - val_loss: 0.5687 - val_precision: 0.7037 - val_recall: 0.7600\n",
      "Epoch 10/20\n",
      "\u001b[1m80/80\u001b[0m \u001b[32m━━━━━━━━━━━━━━━━━━━━\u001b[0m\u001b[37m\u001b[0m \u001b[1m0s\u001b[0m 1s/step - accuracy: 0.6785 - loss: 0.5951 - precision: 0.6758 - recall: 0.6854\n",
      "Epoch 10: val_loss did not improve from 0.56866\n",
      "\u001b[1m80/80\u001b[0m \u001b[32m━━━━━━━━━━━━━━━━━━━━\u001b[0m\u001b[37m\u001b[0m \u001b[1m124s\u001b[0m 2s/step - accuracy: 0.6785 - loss: 0.5950 - precision: 0.6758 - recall: 0.6854 - val_accuracy: 0.6900 - val_loss: 0.5796 - val_precision: 0.7209 - val_recall: 0.6200\n",
      "Epoch 11/20\n",
      "\u001b[1m80/80\u001b[0m \u001b[32m━━━━━━━━━━━━━━━━━━━━\u001b[0m\u001b[37m\u001b[0m \u001b[1m0s\u001b[0m 1s/step - accuracy: 0.6853 - loss: 0.5966 - precision: 0.6846 - recall: 0.6637\n",
      "Epoch 11: val_loss improved from 0.56866 to 0.56720, saving model to xception_best_model.keras\n",
      "\u001b[1m80/80\u001b[0m \u001b[32m━━━━━━━━━━━━━━━━━━━━\u001b[0m\u001b[37m\u001b[0m \u001b[1m125s\u001b[0m 2s/step - accuracy: 0.6852 - loss: 0.5966 - precision: 0.6846 - recall: 0.6639 - val_accuracy: 0.7300 - val_loss: 0.5672 - val_precision: 0.7255 - val_recall: 0.7400\n",
      "Epoch 12/20\n",
      "\u001b[1m80/80\u001b[0m \u001b[32m━━━━━━━━━━━━━━━━━━━━\u001b[0m\u001b[37m\u001b[0m \u001b[1m0s\u001b[0m 1s/step - accuracy: 0.7096 - loss: 0.5800 - precision: 0.7012 - recall: 0.7065\n",
      "Epoch 12: val_loss improved from 0.56720 to 0.56006, saving model to xception_best_model.keras\n",
      "\u001b[1m80/80\u001b[0m \u001b[32m━━━━━━━━━━━━━━━━━━━━\u001b[0m\u001b[37m\u001b[0m \u001b[1m125s\u001b[0m 2s/step - accuracy: 0.7094 - loss: 0.5800 - precision: 0.7012 - recall: 0.7064 - val_accuracy: 0.7300 - val_loss: 0.5601 - val_precision: 0.7347 - val_recall: 0.7200\n",
      "Epoch 13/20\n",
      "\u001b[1m80/80\u001b[0m \u001b[32m━━━━━━━━━━━━━━━━━━━━\u001b[0m\u001b[37m\u001b[0m \u001b[1m0s\u001b[0m 1s/step - accuracy: 0.6925 - loss: 0.5888 - precision: 0.6902 - recall: 0.6831\n",
      "Epoch 13: val_loss did not improve from 0.56006\n",
      "\u001b[1m80/80\u001b[0m \u001b[32m━━━━━━━━━━━━━━━━━━━━\u001b[0m\u001b[37m\u001b[0m \u001b[1m125s\u001b[0m 2s/step - accuracy: 0.6927 - loss: 0.5886 - precision: 0.6905 - recall: 0.6833 - val_accuracy: 0.7300 - val_loss: 0.5624 - val_precision: 0.7447 - val_recall: 0.7000\n",
      "Epoch 14/20\n",
      "\u001b[1m80/80\u001b[0m \u001b[32m━━━━━━━━━━━━━━━━━━━━\u001b[0m\u001b[37m\u001b[0m \u001b[1m0s\u001b[0m 1s/step - accuracy: 0.6847 - loss: 0.5780 - precision: 0.6877 - recall: 0.6674\n",
      "Epoch 14: val_loss improved from 0.56006 to 0.55790, saving model to xception_best_model.keras\n",
      "\u001b[1m80/80\u001b[0m \u001b[32m━━━━━━━━━━━━━━━━━━━━\u001b[0m\u001b[37m\u001b[0m \u001b[1m125s\u001b[0m 2s/step - accuracy: 0.6847 - loss: 0.5781 - precision: 0.6877 - recall: 0.6676 - val_accuracy: 0.7300 - val_loss: 0.5579 - val_precision: 0.7255 - val_recall: 0.7400\n",
      "Epoch 15/20\n",
      "\u001b[1m80/80\u001b[0m \u001b[32m━━━━━━━━━━━━━━━━━━━━\u001b[0m\u001b[37m\u001b[0m \u001b[1m0s\u001b[0m 1s/step - accuracy: 0.6933 - loss: 0.5887 - precision: 0.6918 - recall: 0.6755\n",
      "Epoch 15: val_loss improved from 0.55790 to 0.55708, saving model to xception_best_model.keras\n",
      "\u001b[1m80/80\u001b[0m \u001b[32m━━━━━━━━━━━━━━━━━━━━\u001b[0m\u001b[37m\u001b[0m \u001b[1m125s\u001b[0m 2s/step - accuracy: 0.6934 - loss: 0.5886 - precision: 0.6919 - recall: 0.6757 - val_accuracy: 0.7300 - val_loss: 0.5571 - val_precision: 0.7170 - val_recall: 0.7600\n",
      "Epoch 16/20\n",
      "\u001b[1m80/80\u001b[0m \u001b[32m━━━━━━━━━━━━━━━━━━━━\u001b[0m\u001b[37m\u001b[0m \u001b[1m0s\u001b[0m 1s/step - accuracy: 0.7030 - loss: 0.5749 - precision: 0.6954 - recall: 0.7143\n",
      "Epoch 16: val_loss did not improve from 0.55708\n",
      "\u001b[1m80/80\u001b[0m \u001b[32m━━━━━━━━━━━━━━━━━━━━\u001b[0m\u001b[37m\u001b[0m \u001b[1m125s\u001b[0m 2s/step - accuracy: 0.7030 - loss: 0.5749 - precision: 0.6955 - recall: 0.7143 - val_accuracy: 0.7200 - val_loss: 0.5581 - val_precision: 0.7037 - val_recall: 0.7600\n",
      "Epoch 17/20\n",
      "\u001b[1m80/80\u001b[0m \u001b[32m━━━━━━━━━━━━━━━━━━━━\u001b[0m\u001b[37m\u001b[0m \u001b[1m0s\u001b[0m 1s/step - accuracy: 0.7027 - loss: 0.5854 - precision: 0.6973 - recall: 0.7094\n",
      "Epoch 17: val_loss did not improve from 0.55708\n",
      "\u001b[1m80/80\u001b[0m \u001b[32m━━━━━━━━━━━━━━━━━━━━\u001b[0m\u001b[37m\u001b[0m \u001b[1m125s\u001b[0m 2s/step - accuracy: 0.7027 - loss: 0.5853 - precision: 0.6973 - recall: 0.7092 - val_accuracy: 0.7300 - val_loss: 0.5597 - val_precision: 0.7347 - val_recall: 0.7200\n",
      "Epoch 18/20\n",
      "\u001b[1m80/80\u001b[0m \u001b[32m━━━━━━━━━━━━━━━━━━━━\u001b[0m\u001b[37m\u001b[0m \u001b[1m0s\u001b[0m 1s/step - accuracy: 0.7077 - loss: 0.5714 - precision: 0.7095 - recall: 0.7002\n",
      "Epoch 18: val_loss did not improve from 0.55708\n",
      "\u001b[1m80/80\u001b[0m \u001b[32m━━━━━━━━━━━━━━━━━━━━\u001b[0m\u001b[37m\u001b[0m \u001b[1m124s\u001b[0m 2s/step - accuracy: 0.7078 - loss: 0.5712 - precision: 0.7096 - recall: 0.7003 - val_accuracy: 0.7100 - val_loss: 0.5594 - val_precision: 0.6981 - val_recall: 0.7400\n",
      "Epoch 19/20\n",
      "\u001b[1m80/80\u001b[0m \u001b[32m━━━━━━━━━━━━━━━━━━━━\u001b[0m\u001b[37m\u001b[0m \u001b[1m0s\u001b[0m 1s/step - accuracy: 0.7060 - loss: 0.5641 - precision: 0.7138 - recall: 0.7145\n",
      "Epoch 19: val_loss did not improve from 0.55708\n",
      "\u001b[1m80/80\u001b[0m \u001b[32m━━━━━━━━━━━━━━━━━━━━\u001b[0m\u001b[37m\u001b[0m \u001b[1m124s\u001b[0m 2s/step - accuracy: 0.7061 - loss: 0.5641 - precision: 0.7138 - recall: 0.7145 - val_accuracy: 0.7200 - val_loss: 0.5593 - val_precision: 0.7115 - val_recall: 0.7400\n",
      "Epoch 20/20\n",
      "\u001b[1m80/80\u001b[0m \u001b[32m━━━━━━━━━━━━━━━━━━━━\u001b[0m\u001b[37m\u001b[0m \u001b[1m0s\u001b[0m 1s/step - accuracy: 0.6994 - loss: 0.5746 - precision: 0.6970 - recall: 0.6989\n",
      "Epoch 20: val_loss improved from 0.55708 to 0.55700, saving model to xception_best_model.keras\n",
      "\u001b[1m80/80\u001b[0m \u001b[32m━━━━━━━━━━━━━━━━━━━━\u001b[0m\u001b[37m\u001b[0m \u001b[1m125s\u001b[0m 2s/step - accuracy: 0.6995 - loss: 0.5745 - precision: 0.6971 - recall: 0.6989 - val_accuracy: 0.7100 - val_loss: 0.5570 - val_precision: 0.6981 - val_recall: 0.7400\n",
      "Restoring model weights from the end of the best epoch: 20.\n"
     ]
    }
   ],
   "source": [
    "best_params = study.best_trial.params\n",
    "\n",
    "best_optimizer = best_params['optimizer']\n",
    "best_learning_rate = best_params['learning_rate']\n",
    "\n",
    "print(\"Best Optimizer:\", best_optimizer)\n",
    "print(\"Best Learning Rate:\", best_learning_rate)\n",
    "\n",
    "best_model = build_model((299, 299, 3), optimizer=best_optimizer, learning_rate=best_learning_rate)\n",
    "\n",
    "early_stopping = EarlyStopping(\n",
    "    monitor='val_loss',\n",
    "    patience=5,\n",
    "    restore_best_weights=True,\n",
    "    verbose=1\n",
    ")\n",
    "\n",
    "model_checkpoint = ModelCheckpoint(\n",
    "    filepath='xception_best_model.keras', \n",
    "    monitor='val_loss',\n",
    "    save_best_only=True,\n",
    "    verbose=1\n",
    ")\n",
    "\n",
    "\n",
    "history = best_model.fit(\n",
    "    train_data,                  \n",
    "    validation_data=val_data,    \n",
    "    epochs=20,                   \n",
    "    batch_size=32,               \n",
    "    callbacks=[early_stopping, model_checkpoint]\n",
    ")"
   ]
  },
  {
   "cell_type": "code",
   "execution_count": 69,
   "id": "d20ed82f-3ffb-412a-b613-0560b59d131f",
   "metadata": {},
   "outputs": [],
   "source": [
    "def plot_training_history(history):\n",
    "    plt.figure(figsize=(12, 5))\n",
    "\n",
    "    plt.subplot(1, 2, 1)\n",
    "    plt.plot(history.history['accuracy'], label='Training Accuracy')\n",
    "    plt.plot(history.history['val_accuracy'], label='Validation Accuracy')\n",
    "    plt.title('Training and Validation Accuracy')\n",
    "    plt.xlabel('Epochs')\n",
    "    plt.ylabel('Accuracy')\n",
    "    plt.legend()\n",
    "    \n",
    "    plt.subplot(1, 2, 2)\n",
    "    plt.plot(history.history['loss'], label='Training Loss')\n",
    "    plt.plot(history.history['val_loss'], label='Validation Loss')\n",
    "    plt.title('Training and Validation Loss')\n",
    "    plt.xlabel('Epochs')\n",
    "    plt.ylabel('Loss')\n",
    "    plt.legend()\n",
    "    plt.tight_layout()\n",
    "    plt.show()"
   ]
  },
  {
   "cell_type": "code",
   "execution_count": 70,
   "id": "a989e1d6-df7d-4ddd-ab8d-30f6708aa507",
   "metadata": {},
   "outputs": [
    {
     "data": {
      "image/png": "[encoded data removed]",
      "text/plain": [
       "<Figure size 1200x500 with 2 Axes>"
      ]
     },
     "metadata": {},
     "output_type": "display_data"
    }
   ],
   "source": [
    "plot_training_history(history)"
   ]
  },
  {
   "cell_type": "code",
   "execution_count": 66,
   "id": "e8c02d58-0244-4c00-b8f2-e772760e135e",
   "metadata": {},
   "outputs": [
    {
     "name": "stdout",
     "output_type": "stream",
     "text": [
      "\u001b[1m10/10\u001b[0m \u001b[32m━━━━━━━━━━━━━━━━━━━━\u001b[0m\u001b[37m\u001b[0m \u001b[1m11s\u001b[0m 1s/step - accuracy: 0.7879 - loss: 0.5221 - precision: 0.4042 - recall: 0.4808\n",
      "Test Loss: 0.5313\n",
      "Test Accuracy: 0.7633\n",
      "Test Precision: 0.7842\n",
      "Test Recall: 0.7267\n"
     ]
    }
   ],
   "source": [
    "test_loss, test_accuracy, test_precision, test_recall = best_model.evaluate(test_data)\n",
    "\n",
    "print(f\"Test Loss: {test_loss:.4f}\")\n",
    "print(f\"Test Accuracy: {test_accuracy:.4f}\")\n",
    "print(f\"Test Precision: {test_precision:.4f}\")\n",
    "print(f\"Test Recall: {test_recall:.4f}\")"
   ]
  },
  {
   "cell_type": "code",
   "execution_count": null,
   "id": "c1e7187f-e6c7-48d4-b277-47b221c556d5",
   "metadata": {},
   "outputs": [],
   "source": []
  }
 ],
 "metadata": {
  "kernelspec": {
   "display_name": "Python 3 (ipykernel)",
   "language": "python",
   "name": "python3"
  },
  "language_info": {
   "codemirror_mode": {
    "name": "ipython",
    "version": 3
   },
   "file_extension": ".py",
   "mimetype": "text/x-python",
   "name": "python",
   "nbconvert_exporter": "python",
   "pygments_lexer": "ipython3",
   "version": "3.11.7"
  }
 },
 "nbformat": 4,
 "nbformat_minor": 5
}
